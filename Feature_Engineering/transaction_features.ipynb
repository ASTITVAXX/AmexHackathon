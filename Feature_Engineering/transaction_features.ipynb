{
 "cells": [
  {
   "cell_type": "code",
   "execution_count": null,
   "id": "3ae2ef66",
   "metadata": {},
   "outputs": [],
   "source": [
    "import pandas as pd\n",
    "\n",
    "def generate_global_transaction_features(train_df, transactions_df):\n",
    "    transactions_df.rename(columns={\n",
    "        'id2': 'customer_id',\n",
    "        'f367': 'transaction_amount',\n",
    "        'f368': 'merchant_category',\n",
    "        'f369': 'transaction_type',\n",
    "        'f370': 'transaction_date',\n",
    "        'f371': 'transaction_time_only',\n",
    "        'f372': 'transaction_ym',\n",
    "        'id8':  'region_flag',\n",
    "        'f374': 'shared_offer_flag'\n",
    "    }, inplace=True)\n",
    "\n",
    "    transactions_df['transaction_amount'] = pd.to_numeric(transactions_df['transaction_amount'], errors='coerce')\n",
    "    transactions_df['transaction_date'] = pd.to_datetime(transactions_df['transaction_date'])\n",
    "\n",
    "    global_features = {\n",
    "        'global_avg_transaction': transactions_df['transaction_amount'].mean(),\n",
    "        'global_max_transaction': transactions_df['transaction_amount'].max(),\n",
    "        'global_min_transaction': transactions_df['transaction_amount'].min(),\n",
    "        'global_top_category': transactions_df['merchant_category'].mode()[0],\n",
    "        'global_top_type': transactions_df['transaction_type'].mode()[0]\n",
    "    }\n",
    "\n",
    "    for key, val in global_features.items():\n",
    "        train_df[key] = val\n",
    "\n",
    "    print(\"[✓] Global transaction stats merged into train set.\")\n",
    "    display(train_df.head(5))\n",
    "\n",
    "    return train_df\n"
   ]
  }
 ],
 "metadata": {
  "kernelspec": {
   "display_name": "Python 3",
   "language": "python",
   "name": "python3"
  },
  "language_info": {
   "codemirror_mode": {
    "name": "ipython",
    "version": 3
   },
   "file_extension": ".py",
   "mimetype": "text/x-python",
   "name": "python",
   "nbconvert_exporter": "python",
   "pygments_lexer": "ipython3",
   "version": "3.12.0"
  }
 },
 "nbformat": 4,
 "nbformat_minor": 5
}
