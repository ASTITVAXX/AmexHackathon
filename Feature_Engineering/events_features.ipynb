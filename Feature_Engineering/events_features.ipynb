{
 "cells": [
  {
   "cell_type": "code",
   "execution_count": 5,
   "id": "4c63c234",
   "metadata": {},
   "outputs": [],
   "source": [
    "# Rename and ensure timestamp is datetime\n",
    "import pandas as pd\n",
    "import numpy as np\n",
    "\n",
    "\n",
    "\n",
    "\n",
    "\n"
   ]
  },
  {
   "cell_type": "code",
   "execution_count": 1,
   "id": "6e5ef583",
   "metadata": {},
   "outputs": [],
   "source": [
    "def generate_event_features(train_df, events_df):\n",
    "    import pandas as pd\n",
    "\n",
    "    # Rename and convert\n",
    "    events_df.rename(columns={\n",
    "        'id2': 'customer_id',\n",
    "        'id3': 'offer_id',\n",
    "        'id4': 'event_timestamp',\n",
    "        'id6': 'event_type'\n",
    "    }, inplace=True)\n",
    "    events_df['event_timestamp'] = pd.to_datetime(events_df['event_timestamp'])\n",
    "    events_df['offer_id'] = events_df['offer_id'].astype(str)\n",
    "\n",
    "    print(\"[✓] Preprocessed events.\")\n",
    "\n",
    "    # Group by offer_id FIRST\n",
    "    event_agg = events_df.groupby('offer_id').agg(\n",
    "        offer_event_count=('event_type', 'count'),\n",
    "        unique_event_types=('event_type', pd.Series.nunique),\n",
    "        avg_event_hour=('event_timestamp', lambda x: x.dt.hour.mean()),\n",
    "        earliest_event=('event_timestamp', 'min'),\n",
    "        latest_event=('event_timestamp', 'max'),\n",
    "    ).reset_index()\n",
    "\n",
    "    event_agg['event_span_days'] = (event_agg['latest_event'] - event_agg['earliest_event']).dt.days\n",
    "\n",
    "    # Optional: One-hot event types by offer\n",
    "    event_type_counts = events_df.pivot_table(\n",
    "        index='offer_id',\n",
    "        columns='event_type',\n",
    "        aggfunc='size',\n",
    "        fill_value=0\n",
    "    ).reset_index()\n",
    "\n",
    "    # Merge all offer-level features\n",
    "    event_features = event_agg.merge(event_type_counts, on='offer_id', how='left')\n",
    "\n",
    "    # Now safe to merge into train\n",
    "    train_df = train_df.merge(event_features, on='offer_id', how='left')\n",
    "\n",
    "    print(\"[✓] Merged offer-level event features into train_df.\")\n",
    "    display(train_df.head(20))\n",
    "\n",
    "    return train_df\n"
   ]
  }
 ],
 "metadata": {
  "kernelspec": {
   "display_name": "Python 3",
   "language": "python",
   "name": "python3"
  },
  "language_info": {
   "codemirror_mode": {
    "name": "ipython",
    "version": 3
   },
   "file_extension": ".py",
   "mimetype": "text/x-python",
   "name": "python",
   "nbconvert_exporter": "python",
   "pygments_lexer": "ipython3",
   "version": "3.12.0"
  }
 },
 "nbformat": 4,
 "nbformat_minor": 5
}
